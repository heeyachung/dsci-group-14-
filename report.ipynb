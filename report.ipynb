{
 "cells": [
  {
   "cell_type": "markdown",
   "id": "5dc20aa2-017e-4080-a1d6-87fb7529636b",
   "metadata": {},
   "source": [
    "# Identifying Fake Bills"
   ]
  },
  {
   "cell_type": "markdown",
   "id": "4bab772a-489f-4a46-99b5-bc2ca33cc447",
   "metadata": {},
   "source": [
    "The Introduction goes here"
   ]
  },
  {
   "cell_type": "code",
   "execution_count": 5,
   "id": "87962e1e-bf74-4c7e-8a98-22120c37a2b5",
   "metadata": {},
   "outputs": [
    {
     "name": "stderr",
     "output_type": "stream",
     "text": [
      "Warning message:\n",
      "“package ‘ggplot2’ was built under R version 4.3.2”\n",
      "── \u001b[1mAttaching core tidyverse packages\u001b[22m ──────────────────────── tidyverse 2.0.0 ──\n",
      "\u001b[32m✔\u001b[39m \u001b[34mdplyr    \u001b[39m 1.1.3     \u001b[32m✔\u001b[39m \u001b[34mreadr    \u001b[39m 2.1.4\n",
      "\u001b[32m✔\u001b[39m \u001b[34mforcats  \u001b[39m 1.0.0     \u001b[32m✔\u001b[39m \u001b[34mstringr  \u001b[39m 1.5.0\n",
      "\u001b[32m✔\u001b[39m \u001b[34mggplot2  \u001b[39m 3.5.0     \u001b[32m✔\u001b[39m \u001b[34mtibble   \u001b[39m 3.2.1\n",
      "\u001b[32m✔\u001b[39m \u001b[34mlubridate\u001b[39m 1.9.2     \u001b[32m✔\u001b[39m \u001b[34mtidyr    \u001b[39m 1.3.0\n",
      "\u001b[32m✔\u001b[39m \u001b[34mpurrr    \u001b[39m 1.0.2     \n",
      "── \u001b[1mConflicts\u001b[22m ────────────────────────────────────────── tidyverse_conflicts() ──\n",
      "\u001b[31m✖\u001b[39m \u001b[34mdplyr\u001b[39m::\u001b[32mfilter()\u001b[39m masks \u001b[34mstats\u001b[39m::filter()\n",
      "\u001b[31m✖\u001b[39m \u001b[34mdplyr\u001b[39m::\u001b[32mlag()\u001b[39m    masks \u001b[34mstats\u001b[39m::lag()\n",
      "\u001b[36mℹ\u001b[39m Use the conflicted package (\u001b[3m\u001b[34m<http://conflicted.r-lib.org/>\u001b[39m\u001b[23m) to force all conflicts to become errors\n",
      "── \u001b[1mAttaching packages\u001b[22m ────────────────────────────────────── tidymodels 1.1.1 ──\n",
      "\n",
      "\u001b[32m✔\u001b[39m \u001b[34mbroom       \u001b[39m 1.0.5     \u001b[32m✔\u001b[39m \u001b[34mrsample     \u001b[39m 1.2.0\n",
      "\u001b[32m✔\u001b[39m \u001b[34mdials       \u001b[39m 1.2.0     \u001b[32m✔\u001b[39m \u001b[34mtune        \u001b[39m 1.1.2\n",
      "\u001b[32m✔\u001b[39m \u001b[34minfer       \u001b[39m 1.0.5     \u001b[32m✔\u001b[39m \u001b[34mworkflows   \u001b[39m 1.1.3\n",
      "\u001b[32m✔\u001b[39m \u001b[34mmodeldata   \u001b[39m 1.2.0     \u001b[32m✔\u001b[39m \u001b[34mworkflowsets\u001b[39m 1.0.1\n",
      "\u001b[32m✔\u001b[39m \u001b[34mparsnip     \u001b[39m 1.1.1     \u001b[32m✔\u001b[39m \u001b[34myardstick   \u001b[39m 1.2.0\n",
      "\u001b[32m✔\u001b[39m \u001b[34mrecipes     \u001b[39m 1.0.8     \n",
      "\n",
      "── \u001b[1mConflicts\u001b[22m ───────────────────────────────────────── tidymodels_conflicts() ──\n",
      "\u001b[31m✖\u001b[39m \u001b[34mscales\u001b[39m::\u001b[32mdiscard()\u001b[39m masks \u001b[34mpurrr\u001b[39m::discard()\n",
      "\u001b[31m✖\u001b[39m \u001b[34mdplyr\u001b[39m::\u001b[32mfilter()\u001b[39m   masks \u001b[34mstats\u001b[39m::filter()\n",
      "\u001b[31m✖\u001b[39m \u001b[34mrecipes\u001b[39m::\u001b[32mfixed()\u001b[39m  masks \u001b[34mstringr\u001b[39m::fixed()\n",
      "\u001b[31m✖\u001b[39m \u001b[34mdplyr\u001b[39m::\u001b[32mlag()\u001b[39m      masks \u001b[34mstats\u001b[39m::lag()\n",
      "\u001b[31m✖\u001b[39m \u001b[34myardstick\u001b[39m::\u001b[32mspec()\u001b[39m masks \u001b[34mreadr\u001b[39m::spec()\n",
      "\u001b[31m✖\u001b[39m \u001b[34mrecipes\u001b[39m::\u001b[32mstep()\u001b[39m   masks \u001b[34mstats\u001b[39m::step()\n",
      "\u001b[34m•\u001b[39m Learn how to get started at \u001b[32mhttps://www.tidymodels.org/start/\u001b[39m\n",
      "\n"
     ]
    }
   ],
   "source": [
    "library(tidyverse)  # for general tidyverse functions\n",
    "library(tidymodels) # for making the training/testing split\n",
    "library(ggplot2)    # for producing plots\n",
    "library(repr)       # for adjusting plots"
   ]
  },
  {
   "cell_type": "code",
   "execution_count": 6,
   "id": "54964f13-1d5b-409d-b1fc-13384c8d2184",
   "metadata": {},
   "outputs": [
    {
     "name": "stderr",
     "output_type": "stream",
     "text": [
      "\u001b[1mRows: \u001b[22m\u001b[34m1500\u001b[39m \u001b[1mColumns: \u001b[22m\u001b[34m7\u001b[39m\n",
      "\u001b[36m──\u001b[39m \u001b[1mColumn specification\u001b[22m \u001b[36m────────────────────────────────────────────────────────\u001b[39m\n",
      "\u001b[1mDelimiter:\u001b[22m \",\"\n",
      "\u001b[32mdbl\u001b[39m (7): is_genuine, diagonal, height_left, height_right, margin_low, margin...\n",
      "\n",
      "\u001b[36mℹ\u001b[39m Use `spec()` to retrieve the full column specification for this data.\n",
      "\u001b[36mℹ\u001b[39m Specify the column types or set `show_col_types = FALSE` to quiet this message.\n"
     ]
    },
    {
     "data": {
      "text/html": [
       "<table class=\"dataframe\">\n",
       "<caption>A tibble: 6 × 7</caption>\n",
       "<thead>\n",
       "\t<tr><th scope=col>is_genuine</th><th scope=col>diagonal</th><th scope=col>height_left</th><th scope=col>height_right</th><th scope=col>margin_low</th><th scope=col>margin_up</th><th scope=col>length</th></tr>\n",
       "\t<tr><th scope=col>&lt;fct&gt;</th><th scope=col>&lt;dbl&gt;</th><th scope=col>&lt;dbl&gt;</th><th scope=col>&lt;dbl&gt;</th><th scope=col>&lt;dbl&gt;</th><th scope=col>&lt;dbl&gt;</th><th scope=col>&lt;dbl&gt;</th></tr>\n",
       "</thead>\n",
       "<tbody>\n",
       "\t<tr><td>fake</td><td>171.59</td><td>104.14</td><td>104.38</td><td>4.97</td><td>3.47</td><td>111.22</td></tr>\n",
       "\t<tr><td>fake</td><td>172.55</td><td>104.25</td><td>104.23</td><td>5.60</td><td>3.13</td><td>111.72</td></tr>\n",
       "\t<tr><td>fake</td><td>171.88</td><td>104.30</td><td>104.18</td><td>5.34</td><td>3.33</td><td>112.69</td></tr>\n",
       "\t<tr><td>fake</td><td>171.63</td><td>104.05</td><td>104.25</td><td>4.61</td><td>3.10</td><td>110.91</td></tr>\n",
       "\t<tr><td>fake</td><td>171.83</td><td>104.13</td><td>104.52</td><td>4.94</td><td>3.27</td><td>111.72</td></tr>\n",
       "\t<tr><td>fake</td><td>172.30</td><td>104.28</td><td>103.90</td><td>5.10</td><td>3.57</td><td>110.66</td></tr>\n",
       "</tbody>\n",
       "</table>\n"
      ],
      "text/latex": [
       "A tibble: 6 × 7\n",
       "\\begin{tabular}{lllllll}\n",
       " is\\_genuine & diagonal & height\\_left & height\\_right & margin\\_low & margin\\_up & length\\\\\n",
       " <fct> & <dbl> & <dbl> & <dbl> & <dbl> & <dbl> & <dbl>\\\\\n",
       "\\hline\n",
       "\t fake & 171.59 & 104.14 & 104.38 & 4.97 & 3.47 & 111.22\\\\\n",
       "\t fake & 172.55 & 104.25 & 104.23 & 5.60 & 3.13 & 111.72\\\\\n",
       "\t fake & 171.88 & 104.30 & 104.18 & 5.34 & 3.33 & 112.69\\\\\n",
       "\t fake & 171.63 & 104.05 & 104.25 & 4.61 & 3.10 & 110.91\\\\\n",
       "\t fake & 171.83 & 104.13 & 104.52 & 4.94 & 3.27 & 111.72\\\\\n",
       "\t fake & 172.30 & 104.28 & 103.90 & 5.10 & 3.57 & 110.66\\\\\n",
       "\\end{tabular}\n"
      ],
      "text/markdown": [
       "\n",
       "A tibble: 6 × 7\n",
       "\n",
       "| is_genuine &lt;fct&gt; | diagonal &lt;dbl&gt; | height_left &lt;dbl&gt; | height_right &lt;dbl&gt; | margin_low &lt;dbl&gt; | margin_up &lt;dbl&gt; | length &lt;dbl&gt; |\n",
       "|---|---|---|---|---|---|---|\n",
       "| fake | 171.59 | 104.14 | 104.38 | 4.97 | 3.47 | 111.22 |\n",
       "| fake | 172.55 | 104.25 | 104.23 | 5.60 | 3.13 | 111.72 |\n",
       "| fake | 171.88 | 104.30 | 104.18 | 5.34 | 3.33 | 112.69 |\n",
       "| fake | 171.63 | 104.05 | 104.25 | 4.61 | 3.10 | 110.91 |\n",
       "| fake | 171.83 | 104.13 | 104.52 | 4.94 | 3.27 | 111.72 |\n",
       "| fake | 172.30 | 104.28 | 103.90 | 5.10 | 3.57 | 110.66 |\n",
       "\n"
      ],
      "text/plain": [
       "  is_genuine diagonal height_left height_right margin_low margin_up length\n",
       "1 fake       171.59   104.14      104.38       4.97       3.47      111.22\n",
       "2 fake       172.55   104.25      104.23       5.60       3.13      111.72\n",
       "3 fake       171.88   104.30      104.18       5.34       3.33      112.69\n",
       "4 fake       171.63   104.05      104.25       4.61       3.10      110.91\n",
       "5 fake       171.83   104.13      104.52       4.94       3.27      111.72\n",
       "6 fake       172.30   104.28      103.90       5.10       3.57      110.66"
      ]
     },
     "metadata": {},
     "output_type": "display_data"
    }
   ],
   "source": [
    "# reading and tidying the dataset\n",
    "fake_bills <- read_csv(\"https://raw.githubusercontent.com/heeyachung/dsci-group-14-/main/fakebills.csv\") |> #reading the file\n",
    "    mutate(is_genuine = as_factor(is_genuine)) |> #factoring the legitimacy variable\n",
    "    mutate(is_genuine = fct_recode(is_genuine, \"real\" = \"1\", \"fake\" = \"2\")) #renaming values\n",
    "\n",
    "# splitting the data into the training and testing split\n",
    "fake_bills_split <- initial_split(fake_bills, prop = 0.75, strata = is_genuine)\n",
    "bills_training <- training(fake_bills_split)  # training split\n",
    "bills_testing <- testing(fake_bills_split)    # testing split\n",
    "head(bills_training)"
   ]
  },
  {
   "cell_type": "code",
   "execution_count": 7,
   "id": "ce60d2a8-4b3b-4253-9be3-c9100af6494c",
   "metadata": {},
   "outputs": [
    {
     "data": {
      "text/html": [
       "<table class=\"dataframe\">\n",
       "<caption>A tibble: 2 × 2</caption>\n",
       "<thead>\n",
       "\t<tr><th scope=col>is_genuine</th><th scope=col>count</th></tr>\n",
       "\t<tr><th scope=col>&lt;fct&gt;</th><th scope=col>&lt;int&gt;</th></tr>\n",
       "</thead>\n",
       "<tbody>\n",
       "\t<tr><td>real</td><td>750</td></tr>\n",
       "\t<tr><td>fake</td><td>375</td></tr>\n",
       "</tbody>\n",
       "</table>\n"
      ],
      "text/latex": [
       "A tibble: 2 × 2\n",
       "\\begin{tabular}{ll}\n",
       " is\\_genuine & count\\\\\n",
       " <fct> & <int>\\\\\n",
       "\\hline\n",
       "\t real & 750\\\\\n",
       "\t fake & 375\\\\\n",
       "\\end{tabular}\n"
      ],
      "text/markdown": [
       "\n",
       "A tibble: 2 × 2\n",
       "\n",
       "| is_genuine &lt;fct&gt; | count &lt;int&gt; |\n",
       "|---|---|\n",
       "| real | 750 |\n",
       "| fake | 375 |\n",
       "\n"
      ],
      "text/plain": [
       "  is_genuine count\n",
       "1 real       750  \n",
       "2 fake       375  "
      ]
     },
     "metadata": {},
     "output_type": "display_data"
    }
   ],
   "source": [
    "bills_class <- bills_training |>\n",
    "    group_by(is_genuine) |>\n",
    "    summarize(count = n()) \n",
    "bills_class"
   ]
  },
  {
   "cell_type": "markdown",
   "id": "7928012f-45d6-4ebd-8399-31539b8db980",
   "metadata": {},
   "source": [
    "As previously discussed in the initial analysis in our proposal, there is a large disparity between the number of real and fake bills. As said disparity would negatively affect the efficacy of our model, we will produce synthetic data points for fake bills."
   ]
  }
 ],
 "metadata": {
  "kernelspec": {
   "display_name": "R",
   "language": "R",
   "name": "ir"
  },
  "language_info": {
   "codemirror_mode": "r",
   "file_extension": ".r",
   "mimetype": "text/x-r-source",
   "name": "R",
   "pygments_lexer": "r",
   "version": "4.3.1"
  }
 },
 "nbformat": 4,
 "nbformat_minor": 5
}

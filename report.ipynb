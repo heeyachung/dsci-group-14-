{
 "cells": [
  {
   "cell_type": "markdown",
   "id": "5dc20aa2-017e-4080-a1d6-87fb7529636b",
   "metadata": {},
   "source": [
    "# Identifying Fake Bills"
   ]
  },
  {
   "cell_type": "code",
   "execution_count": null,
   "id": "4da54445-a02f-4cb1-9971-14eac70ea326",
   "metadata": {},
   "outputs": [],
   "source": [
    "This is a trial push"
   ]
  }
 ],
 "metadata": {
  "kernelspec": {
   "display_name": "R",
   "language": "R",
   "name": "ir"
  },
  "language_info": {
   "codemirror_mode": "r",
   "file_extension": ".r",
   "mimetype": "text/x-r-source",
   "name": "R",
   "pygments_lexer": "r",
   "version": "4.3.1"
  }
 },
 "nbformat": 4,
 "nbformat_minor": 5
}
